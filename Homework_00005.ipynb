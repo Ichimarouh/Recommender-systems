{
  "nbformat": 4,
  "nbformat_minor": 0,
  "metadata": {
    "kernelspec": {
      "display_name": "Python 3",
      "language": "python",
      "name": "python3"
    },
    "language_info": {
      "codemirror_mode": {
        "name": "ipython",
        "version": 3
      },
      "file_extension": ".py",
      "mimetype": "text/x-python",
      "name": "python",
      "nbconvert_exporter": "python",
      "pygments_lexer": "ipython3",
      "version": "3.6.13"
    },
    "colab": {
      "name": "Копия блокнота \"hw_5.ipynb\"",
      "provenance": [],
      "collapsed_sections": []
    }
  },
  "cells": [
    {
      "cell_type": "markdown",
      "metadata": {
        "id": "z3LHLeviiRTG"
      },
      "source": [
        "## Теоретическая часть"
      ]
    },
    {
      "cell_type": "markdown",
      "metadata": {
        "id": "-azAXSNZiRTJ"
      },
      "source": [
        "\n",
        "1. Ответьте на вопросы:  \n",
        "В чем принципиальное отличие гибридных рекомендательных систем от коллаборативной филтьтрации?  \n",
        "Приведите 2-3 примера задач, в которых необходимо использовать гибридные системы  \n",
        "\n",
        "\n"
      ]
    },
    {
      "cell_type": "markdown",
      "metadata": {
        "id": "6xn4PVExrXv3"
      },
      "source": [
        "При коллаборативной фильтрации в модели учитываются только взаимодействия пользователей и товаров. В гибридных рекомендательных системах также учитываются признаки пользователей и товаров."
      ]
    },
    {
      "cell_type": "markdown",
      "metadata": {
        "id": "gde6tmcjr641"
      },
      "source": [
        "Примеры задач, которые решаются при помощи гибридных систем.\n",
        "\n",
        "Введение нового товара- отсутствие взаимодействия нового товара с пользователями (холодный старт для товара).\n",
        "Появление нового пользователя- отсутствие информации о предпочтениях юзера (холодный старт для пользователя).\n"
      ]
    },
    {
      "cell_type": "markdown",
      "metadata": {
        "id": "MXlAfLKLiRTK"
      },
      "source": [
        "2.  Прочитайте статью про поиск на hh.ru https://habr.com/ru/company/hh/blog/347276/\n",
        "Нам интересна именно рекомендательная система, раздел \"Производительность системы\" можно пропустить\n",
        "Какие основные отличия предложенной системы от тех подходов, которые мы разбирали на семинарах? Какие проблемы могут возникнуть при выводе такой модели в продакшен?"
      ]
    },
    {
      "cell_type": "markdown",
      "metadata": {
        "id": "dJ7b8SJL1rEU"
      },
      "source": [
        "Основным отличием является применением нескольких последовательных фильтров при подборе вакансий. Проблемой может стать длительное время обработки из-за чего возникает задержка при подборе предложений."
      ]
    },
    {
      "cell_type": "markdown",
      "metadata": {
        "id": "crLcjzmJiRTK"
      },
      "source": [
        "3. На вебинаре мы рассматривали модель LightFM (https://making.lyst.com/lightfm/docs/lightfm.html). В работе Data Scientist'а важную часть занимает research - исследование существующих архитектур и разбор научных статей, в которых они описываются. Вам предлагается изчуть оригинальную статью про LightFM https://arxiv.org/pdf/1507.08439.pdf и ответить на следующие вопросы:  \n",
        "1) Какой датасет используют авторы?  \n",
        "2) Что используют в качестве признаков?  \n",
        "3) С какими моделями сравнивают LightFM? Опишите их основные идеи кратко  "
      ]
    },
    {
      "cell_type": "markdown",
      "metadata": {
        "id": "tJtBYoHH6Q0P"
      },
      "source": [
        "Авторами был использован датасет MovieLens, объединенный с набором тегов Tag Genome, а также датасет CrossValidated. \n",
        "\n",
        "В качестве признаков в наборе MovieLens применяются жанр и список меток (tags), для CrossValidated- теги вопросов и метаданные пользователей.\n",
        "\n",
        "LightFM сравнивается со следующими моделями: \n",
        "\n",
        "MF- модель коллаборативной фильтрации - матричная модель User х Item с функцией сигмоиды;\n",
        "\n",
        "LSI-LR- логистическая регрессия, основанная на факторизации матрицы контента; \n",
        "\n",
        "LSI-UP- гибридная модель, которая представляет профили пользователей, как линейную комбинацию предметов по векторам, затем применяет LSI к получившейся матрице, чтобы получить скрытые представления пользователей и элементов."
      ]
    },
    {
      "cell_type": "markdown",
      "metadata": {
        "id": "UU82M-xpiRTK"
      },
      "source": [
        "## Практическая часть\n"
      ]
    },
    {
      "cell_type": "code",
      "metadata": {
        "colab": {
          "base_uri": "https://localhost:8080/"
        },
        "id": "IGbdIYHIDN0h",
        "outputId": "eb5e94bf-1404-43fb-edcb-c04f359bcfcc"
      },
      "source": [
        "!pip install lightfm"
      ],
      "execution_count": 2,
      "outputs": [
        {
          "output_type": "stream",
          "name": "stdout",
          "text": [
            "Collecting lightfm\n",
            "  Downloading lightfm-1.16.tar.gz (310 kB)\n",
            "\u001b[?25l\r\u001b[K     |█                               | 10 kB 23.0 MB/s eta 0:00:01\r\u001b[K     |██▏                             | 20 kB 29.2 MB/s eta 0:00:01\r\u001b[K     |███▏                            | 30 kB 14.2 MB/s eta 0:00:01\r\u001b[K     |████▎                           | 40 kB 10.5 MB/s eta 0:00:01\r\u001b[K     |█████▎                          | 51 kB 4.5 MB/s eta 0:00:01\r\u001b[K     |██████▍                         | 61 kB 4.8 MB/s eta 0:00:01\r\u001b[K     |███████▍                        | 71 kB 4.4 MB/s eta 0:00:01\r\u001b[K     |████████▌                       | 81 kB 4.9 MB/s eta 0:00:01\r\u001b[K     |█████████▌                      | 92 kB 5.0 MB/s eta 0:00:01\r\u001b[K     |██████████▋                     | 102 kB 4.3 MB/s eta 0:00:01\r\u001b[K     |███████████▋                    | 112 kB 4.3 MB/s eta 0:00:01\r\u001b[K     |████████████▊                   | 122 kB 4.3 MB/s eta 0:00:01\r\u001b[K     |█████████████▊                  | 133 kB 4.3 MB/s eta 0:00:01\r\u001b[K     |██████████████▉                 | 143 kB 4.3 MB/s eta 0:00:01\r\u001b[K     |███████████████▉                | 153 kB 4.3 MB/s eta 0:00:01\r\u001b[K     |█████████████████               | 163 kB 4.3 MB/s eta 0:00:01\r\u001b[K     |██████████████████              | 174 kB 4.3 MB/s eta 0:00:01\r\u001b[K     |███████████████████             | 184 kB 4.3 MB/s eta 0:00:01\r\u001b[K     |████████████████████            | 194 kB 4.3 MB/s eta 0:00:01\r\u001b[K     |█████████████████████▏          | 204 kB 4.3 MB/s eta 0:00:01\r\u001b[K     |██████████████████████▏         | 215 kB 4.3 MB/s eta 0:00:01\r\u001b[K     |███████████████████████▎        | 225 kB 4.3 MB/s eta 0:00:01\r\u001b[K     |████████████████████████▎       | 235 kB 4.3 MB/s eta 0:00:01\r\u001b[K     |█████████████████████████▍      | 245 kB 4.3 MB/s eta 0:00:01\r\u001b[K     |██████████████████████████▍     | 256 kB 4.3 MB/s eta 0:00:01\r\u001b[K     |███████████████████████████▌    | 266 kB 4.3 MB/s eta 0:00:01\r\u001b[K     |████████████████████████████▌   | 276 kB 4.3 MB/s eta 0:00:01\r\u001b[K     |█████████████████████████████▋  | 286 kB 4.3 MB/s eta 0:00:01\r\u001b[K     |██████████████████████████████▋ | 296 kB 4.3 MB/s eta 0:00:01\r\u001b[K     |███████████████████████████████▊| 307 kB 4.3 MB/s eta 0:00:01\r\u001b[K     |████████████████████████████████| 310 kB 4.3 MB/s \n",
            "\u001b[?25hRequirement already satisfied: numpy in /usr/local/lib/python3.7/dist-packages (from lightfm) (1.19.5)\n",
            "Requirement already satisfied: scipy>=0.17.0 in /usr/local/lib/python3.7/dist-packages (from lightfm) (1.4.1)\n",
            "Requirement already satisfied: requests in /usr/local/lib/python3.7/dist-packages (from lightfm) (2.23.0)\n",
            "Requirement already satisfied: scikit-learn in /usr/local/lib/python3.7/dist-packages (from lightfm) (0.22.2.post1)\n",
            "Requirement already satisfied: chardet<4,>=3.0.2 in /usr/local/lib/python3.7/dist-packages (from requests->lightfm) (3.0.4)\n",
            "Requirement already satisfied: certifi>=2017.4.17 in /usr/local/lib/python3.7/dist-packages (from requests->lightfm) (2021.5.30)\n",
            "Requirement already satisfied: urllib3!=1.25.0,!=1.25.1,<1.26,>=1.21.1 in /usr/local/lib/python3.7/dist-packages (from requests->lightfm) (1.24.3)\n",
            "Requirement already satisfied: idna<3,>=2.5 in /usr/local/lib/python3.7/dist-packages (from requests->lightfm) (2.10)\n",
            "Requirement already satisfied: joblib>=0.11 in /usr/local/lib/python3.7/dist-packages (from scikit-learn->lightfm) (1.0.1)\n",
            "Building wheels for collected packages: lightfm\n",
            "  Building wheel for lightfm (setup.py) ... \u001b[?25l\u001b[?25hdone\n",
            "  Created wheel for lightfm: filename=lightfm-1.16-cp37-cp37m-linux_x86_64.whl size=705334 sha256=a1d67329f74c00cf240d9d620d8fd9f90bcc5e561d28b356b500a6ec282cc869\n",
            "  Stored in directory: /root/.cache/pip/wheels/f8/56/28/5772a3bd3413d65f03aa452190b00898b680b10028a1021914\n",
            "Successfully built lightfm\n",
            "Installing collected packages: lightfm\n",
            "Successfully installed lightfm-1.16\n"
          ]
        }
      ]
    },
    {
      "cell_type": "code",
      "metadata": {
        "id": "enFFbCWRiRTL"
      },
      "source": [
        "import lightfm"
      ],
      "execution_count": 3,
      "outputs": []
    },
    {
      "cell_type": "code",
      "metadata": {
        "id": "eRq_EzTHiRTM"
      },
      "source": [
        "# import data\n",
        "# utils functions like in webinar"
      ],
      "execution_count": null,
      "outputs": []
    },
    {
      "cell_type": "markdown",
      "metadata": {
        "id": "f55ZtcUCiRTN"
      },
      "source": [
        "### 1. Модуль SRC"
      ]
    },
    {
      "cell_type": "markdown",
      "metadata": {
        "id": "oJgq9XodiRTN"
      },
      "source": [
        "На вебинаре было рассказано про модуль src. Он приложен в материалах. Скачайте его, изучите структуру, импортируйте функции"
      ]
    },
    {
      "cell_type": "code",
      "metadata": {
        "id": "d18dxVSe_4tF"
      },
      "source": [
        "from src.metrics import precision_at_k, recall_at_k\n",
        "\n",
        "from src.utils import prefilter_items"
      ],
      "execution_count": 4,
      "outputs": []
    },
    {
      "cell_type": "markdown",
      "metadata": {
        "id": "-xYAVB5_iRTO"
      },
      "source": [
        "### 2. Работа с признаками"
      ]
    },
    {
      "cell_type": "markdown",
      "metadata": {
        "id": "RgTPGqXXiRTO"
      },
      "source": [
        "У нас есть внешние данные. Что с ними не так? Чего не хватает?  \n",
        "\n",
        "Проведите исследование внешних данных и составьте какие-нибудь содержательные выводы.  \n",
        "Формально Вам нужно построить 3+ графиков (scatter plot, hist или что-то иное) и описать, что мы видим (например, товары такой-то категории болле часто покупаются в следующие дни недели или пользователи с большим достатком предпочитают такие-то товары).  \n",
        "Исследуйте те закономерности, которые Вам интересно, чем менее тривиальный вывод получается, тем лучше! "
      ]
    },
    {
      "cell_type": "markdown",
      "metadata": {
        "id": "tSNoGnSHiRTO"
      },
      "source": [
        "### 3. LightFM"
      ]
    },
    {
      "cell_type": "markdown",
      "metadata": {
        "id": "B_lyN42NiRTP"
      },
      "source": [
        "У этого алогритма есть множество параметров (item/user_alpha, loss, no_components).  \n",
        "Проведите эксперименты аналогично дз 3 (подберите гипперпараметры каким удобно способои и постройте графики)  \n",
        "На выходе необходимо получить pr@5 на валидации (последние 3 недели) > 17%  \n",
        "\n",
        "У Вас, скорее всего, возникнет проблема со временем обучения. Почему они возникает?    \n",
        "\n",
        "Попробуйте запустить алгоритм вообще без фичей или используйте только признаки с небольшим числом уникальных категорий. (item_features['commodity_desc'].unique() - 300 уникальных категорий - это очень много)"
      ]
    },
    {
      "cell_type": "markdown",
      "metadata": {
        "id": "vTQsrf8JiRTP"
      },
      "source": [
        "### *Отбор признаков* * "
      ]
    },
    {
      "cell_type": "markdown",
      "metadata": {
        "id": "EwiJpYJfiRTP"
      },
      "source": [
        "Все данные категориальные, при ohe кодировании для товаров признаков становится невероятно много.      \n",
        "Какие стратегии отбора признаков в классическом ML Вы знаете? Применимы ли они тут?  \n",
        "\n",
        "Попробйте какие-нибудь стратегии. Удалось ли улучшить качество?\n",
        "\n",
        " \\* *задание необязательно*\n"
      ]
    },
    {
      "cell_type": "code",
      "metadata": {
        "id": "aRRdvF00iRTP"
      },
      "source": [
        ""
      ],
      "execution_count": null,
      "outputs": []
    },
    {
      "cell_type": "code",
      "metadata": {
        "id": "a9G6Oh3XiRTQ"
      },
      "source": [
        ""
      ],
      "execution_count": null,
      "outputs": []
    },
    {
      "cell_type": "code",
      "metadata": {
        "id": "viKBxr-7iRTQ"
      },
      "source": [
        ""
      ],
      "execution_count": null,
      "outputs": []
    }
  ]
}